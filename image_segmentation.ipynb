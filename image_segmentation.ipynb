{
  "cells": [
    {
      "cell_type": "markdown",
      "source": [
        "# **Importing needed libraries**"
      ],
      "metadata": {
        "id": "aHcUzKBx7-X9"
      }
    },
    {
      "cell_type": "code",
      "execution_count": null,
      "metadata": {
        "id": "9e1LR82FNhxe"
      },
      "outputs": [],
      "source": [
        "from skimage import data\n",
        "import numpy as np\n",
        "import matplotlib.pyplot as plt\n",
        "import math\n",
        "from PIL import Image\n",
        "import os\n",
        "import scipy.io\n",
        "import scipy.misc\n",
        "import cv2\n",
        "from sklearn.cluster import SpectralClustering\n",
        "from sklearn.metrics.pairwise import euclidean_distances\n",
        "from sklearn.metrics.cluster import contingency_matrix"
      ]
    },
    {
      "cell_type": "markdown",
      "source": [
        "# **1. Download the Dataset and Understand the Format**"
      ],
      "metadata": {
        "id": "eOKRX4jb8Dzr"
      }
    },
    {
      "cell_type": "markdown",
      "source": [
        "**Unzipping the folder contatining the data**"
      ],
      "metadata": {
        "id": "GyQLJ0rB8RQ7"
      }
    },
    {
      "cell_type": "code",
      "execution_count": null,
      "metadata": {
        "id": "8XjUaYVhNuly"
      },
      "outputs": [],
      "source": [
        "!unzip BSR.zip"
      ]
    },
    {
      "cell_type": "markdown",
      "source": [
        "**Getting a list of first 50 test images' names**"
      ],
      "metadata": {
        "id": "DE-kG_-H8ae-"
      }
    },
    {
      "cell_type": "code",
      "execution_count": null,
      "metadata": {
        "id": "-Sq0uynAPRQa"
      },
      "outputs": [],
      "source": [
        "def get_image_name():\n",
        "  test_images_path = \"BSR/BSDS500/data/images/test/\"\n",
        "  test_ground_path = \"BSR/BSDS500/data/groundTruth/test/\"\n",
        "  images_names = []\n",
        "  ground_names = []\n",
        "\n",
        "  for test_image , test_ground,i in zip(sorted(os.listdir(test_images_path)),sorted(os.listdir(test_ground_path)),range(50)):\n",
        "    if test_image != \"Thumbs.db\":\n",
        "      images_names.append(test_image)\n",
        "      ground_names.append(test_ground)\n",
        "\n",
        "  return images_names, ground_names\n",
        "\n",
        "name_list, ground_name_list = get_image_name()"
      ]
    },
    {
      "cell_type": "markdown",
      "source": [
        "**Reading the images and the .mat files**"
      ],
      "metadata": {
        "id": "C_f4ndjl8igq"
      }
    },
    {
      "cell_type": "code",
      "execution_count": null,
      "metadata": {
        "id": "47Van5laNw-e"
      },
      "outputs": [],
      "source": [
        "def get_data(image_name, ground_name):\n",
        "  test_images_path = \"BSR/BSDS500/data/images/test/\"\n",
        "  test_ground_path = \"BSR/BSDS500/data/groundTruth/test/\"\n",
        "  file = test_images_path +(image_name)\n",
        "\n",
        "  pil_im = Image.open(file) \n",
        "  im_array = np.asarray(pil_im)\n",
        "\n",
        "  mat = scipy.io.loadmat(test_ground_path+(ground_name))\n",
        "\n",
        "  return im_array, mat\n",
        "\n",
        "images = []\n",
        "grounds = []\n",
        "for (image_name, ground_name) in zip(name_list, ground_name_list):\n",
        "  image, ground = get_data(image_name, ground_name)\n",
        "  images.append(image)\n",
        "  grounds.append(ground)\n",
        "\n",
        "images = np.asarray(images, dtype=object)"
      ]
    },
    {
      "cell_type": "markdown",
      "source": [
        "**Reading the ground images**"
      ],
      "metadata": {
        "id": "EY2HD4Qg80FI"
      }
    },
    {
      "cell_type": "code",
      "execution_count": null,
      "metadata": {
        "id": "LtYVzdmmSrez"
      },
      "outputs": [],
      "source": [
        "def get_ground_images():\n",
        "  \n",
        "  test_images_path = \"BSR/BSDS500/data/images/test/\"\n",
        "  test_ground_path = \"BSR/BSDS500/data/groundTruth/test/\"\n",
        "  ground_images =[[0 for i in range(10)] for j in range(50)]\n",
        "  \n",
        "  row = 0\n",
        "  for test_image , test_ground,i in zip(sorted(os.listdir(test_images_path)),sorted(os.listdir(test_ground_path)),range(50)):\n",
        "    if test_image != \"Thumbs.db\":\n",
        "      test_mat = scipy.io.loadmat(test_ground_path+test_ground)\n",
        "      for i in range(test_mat['groundTruth'].size):\n",
        "        test_segment = test_mat['groundTruth'][0,i]['Segmentation']\n",
        "        ground_images[row][i] = test_segment[0][0]\n",
        "      row = row +1\n",
        "\n",
        "  return np.asarray(ground_images, dtype=object)\n",
        "\n",
        "ground_images = get_ground_images()"
      ]
    },
    {
      "cell_type": "markdown",
      "source": [
        "# **2. Visualize the image and the ground truth segmentation**"
      ],
      "metadata": {
        "id": "EMMLD1Tc86ax"
      }
    },
    {
      "cell_type": "code",
      "execution_count": null,
      "metadata": {
        "id": "MIOO7SK1S1UO"
      },
      "outputs": [],
      "source": [
        "def imageVSground(test_data,test_ground):\n",
        "  for i in range(len(test_data)):\n",
        "    plt.imshow(test_data[i])\n",
        "    plt.title(\"Original Image\")\n",
        "    plt.show()\n",
        "    j=0\n",
        "    while np.all(test_ground[i][j]) != 0:\n",
        "      plt.imshow(Image.fromarray(test_ground[i][j]))\n",
        "      plt.title(\"Ground truth image (\"+str(j+1)+\")\")\n",
        "      plt.show()\n",
        "      j+=1\n",
        "\n",
        "imageVSground(images,ground_images)"
      ]
    },
    {
      "cell_type": "markdown",
      "source": [
        "# **3. Segmentation using K-means**"
      ],
      "metadata": {
        "id": "rsmkNOQz9AYb"
      }
    },
    {
      "cell_type": "markdown",
      "source": [
        "**Every image pixel is a feature vector of 3-dimension** **{R, G, B}.** **We will** \n",
        "**use this feature representation to do the segmentation.**\n"
      ],
      "metadata": {
        "id": "MJGWtZb29Bl2"
      }
    },
    {
      "cell_type": "markdown",
      "source": [
        "**a.** **We will change the K of the K-means algorithm between** **{3,5,7,9,11}** \n",
        "**clusters. You will produce different segmentations and save them as** \n",
        "**colored images. Every color represents a certain group (cluster) of** \n",
        "**pixels.**"
      ],
      "metadata": {
        "id": "fw-sKpAX9cnL"
      }
    },
    {
      "cell_type": "code",
      "execution_count": null,
      "metadata": {
        "id": "aIheVQ6qTFyD"
      },
      "outputs": [],
      "source": [
        "#function to get the difference between past and current accuracy\n",
        "def diff(x, y):\n",
        "    return abs(x-y)/max(x,y)\n",
        "\n",
        "#kmeans own implementation\n",
        "def k_means(points, k, threshold=0.001, max_iters=100):  \n",
        "    centroids = np.random.randn(k, 3)\n",
        "    prev_loss = 1e9\n",
        "    for i in range(max_iters):\n",
        "        dists_to_centroids = euclidean_distances (X=points, Y=centroids)\n",
        "        assignment = np.argmin(dists_to_centroids, axis=1)\n",
        "        loss = np.sum(np.linalg.norm(centroids[assignment] - points, axis=1)**2)\n",
        "        if diff(loss, prev_loss) <= threshold:\n",
        "            break\n",
        "        prev_loss = loss\n",
        "        # update the centroids\n",
        "        for cent_idx in range(k):\n",
        "            cent_points = points[np.where(assignment==cent_idx)]\n",
        "            if cent_points.shape[0] > 0:\n",
        "                centroids[cent_idx] = np.mean(cent_points, axis=0)\n",
        "        \n",
        "    return assignment"
      ]
    },
    {
      "cell_type": "markdown",
      "source": [
        "**Segmenting the images using implemented kmeans**"
      ],
      "metadata": {
        "id": "onFXCMYQ-JIj"
      }
    },
    {
      "cell_type": "code",
      "execution_count": null,
      "metadata": {
        "id": "bdEGySmiTj3C"
      },
      "outputs": [],
      "source": [
        "def segment_images(test, k):  \n",
        "        \n",
        "    pixel_map = test.reshape(test.shape[0]*test.shape[1],3)\n",
        "    assignment= k_means(points=pixel_map, k=k)\n",
        "    seg = assignment.reshape((test.shape[0],test.shape[1]))\n",
        "        \n",
        "    return seg"
      ]
    },
    {
      "cell_type": "markdown",
      "source": [
        "**Segmenting the first 50 test images for k = (3,5,7,9,11)**"
      ],
      "metadata": {
        "id": "TsFIWfOm-MhD"
      }
    },
    {
      "cell_type": "code",
      "execution_count": null,
      "metadata": {
        "id": "hDXhy_BYTu5S"
      },
      "outputs": [],
      "source": [
        "segments_3 = []\n",
        "print(\"Segmented images when k = 3\")\n",
        "print(\"--------------------------------\")\n",
        "for i in range(50):\n",
        "  seg = segment_images(images[i], 3)\n",
        "  segments_3.append(seg)\n",
        "  plt.imshow(seg)\n",
        "  plt.show()\n",
        "print(\"==================================================================\")\n",
        "\n",
        "segments_5 = []\n",
        "print(\"Segmented images when k = 5\")\n",
        "print(\"--------------------------------\")\n",
        "for i in range(50):\n",
        "  seg = segment_images(images[i], 5)\n",
        "  segments_5.append(seg)\n",
        "  plt.imshow(seg)\n",
        "  plt.show()\n",
        "print(\"==================================================================\")\n",
        "\n",
        "segments_7 = []\n",
        "print(\"Segmented images when k = 7\")\n",
        "print(\"--------------------------------\")\n",
        "for i in range(50):\n",
        "  seg = segment_images(images[i], 7)\n",
        "  segments_7.append(seg)\n",
        "  plt.imshow(seg)\n",
        "  plt.show()\n",
        "print(\"==================================================================\")\n",
        "\n",
        "segments_9 = []\n",
        "print(\"Segmented images when k = 9\")\n",
        "print(\"--------------------------------\")\n",
        "for i in range(50):\n",
        "  seg = segment_images(images[i], 9)\n",
        "  segments_9.append(seg)\n",
        "  plt.imshow(seg)\n",
        "  plt.show()\n",
        "print(\"==================================================================\")\n",
        "\n",
        "segments_11 = []\n",
        "print(\"Segmented images when k = 11\")\n",
        "print(\"--------------------------------\")\n",
        "for i in range(50):\n",
        "  seg = segment_images(images[i], 11)\n",
        "  segments_11.append(seg)\n",
        "  plt.imshow(seg)\n",
        "  plt.show()\n",
        "print(\"==================================================================\")"
      ]
    },
    {
      "cell_type": "markdown",
      "source": [
        "**b. We will evaluate the result segmentation using F-measure,**\n",
        "**Conditional Entropy for image I with M available ground-truth**\n",
        "**segmentations. For a clustering of K-clusters you will report your**\n",
        "**measures M times and the average of the M trials as well. Report**\n",
        "**average per dataset as well**"
      ],
      "metadata": {
        "id": "vdBjAWOj-V4J"
      }
    },
    {
      "cell_type": "markdown",
      "source": [
        "**F-meausre implementation**"
      ],
      "metadata": {
        "id": "wFiTJLfL-ufp"
      }
    },
    {
      "cell_type": "code",
      "execution_count": null,
      "metadata": {
        "id": "ycVKyFlvWqSl"
      },
      "outputs": [],
      "source": [
        "def getFMeasure(segmented_results,mat,i):\n",
        "  print(\"================================================================================\")\n",
        "  pred = segmented_results.flatten()\n",
        "  f1_score_list = []\n",
        "  for j in range(mat['groundTruth'].shape[1]):\n",
        "    truth = mat['groundTruth'][0, j][0, 0][0].flatten()\n",
        "    con = contingency_matrix(truth, pred, eps=None, sparse=False).T\n",
        "    prec = 0.0\n",
        "    recall = 0.0\n",
        "    f1_score = 0.0\n",
        "    for k in range(len(con)):\n",
        "      idx = np.argmax(con[k])\n",
        "      prec = con[k][idx] * 1.0 / sum(con[k])\n",
        "      recall = con[k][idx] * 1.0 / sum(con[:,idx])\n",
        "      f1_score += (2.0 * prec * recall / (prec + recall))\n",
        "    f1_score /= len(con) * 1.0\n",
        "    f1_score_list.append(f1_score)\n",
        "    print(\"F1-Score: For Ground Truth (\",j+1,\") and Segment (\",i+1,\") is \",f1_score)\n",
        "  average = sum(f1_score_list)/len(f1_score_list)\n",
        "  print(\"Average F-measure for this image is \"+ str(average))\n",
        "  return average"
      ]
    },
    {
      "cell_type": "markdown",
      "source": [
        "**Calculating F-measure for k = 3**"
      ],
      "metadata": {
        "id": "LrwibCYr-ylc"
      }
    },
    {
      "cell_type": "code",
      "execution_count": null,
      "metadata": {
        "id": "PqzypYJGnV6C"
      },
      "outputs": [],
      "source": [
        "total_average = []\n",
        "print(\"F-measures when K = 3\")\n",
        "print(\"-----------------------\")\n",
        "for i in range(50):\n",
        "  image_average = getFMeasure(segments_3[i], grounds[i],i)\n",
        "  total_average.append(image_average)\n",
        "\n",
        "average = sum(total_average)/len(total_average)\n",
        "\n",
        "print(\"================================================================================\")\n",
        "print(\"Average F-measure when k=3 is \"+ str(average))\n",
        "print(\"--------------------------------------------------\")"
      ]
    },
    {
      "cell_type": "markdown",
      "source": [
        "**Calculating F-measure for k = 5**"
      ],
      "metadata": {
        "id": "j3iGwO_3-7sh"
      }
    },
    {
      "cell_type": "code",
      "execution_count": null,
      "metadata": {
        "id": "wNa8aUIWnVuo"
      },
      "outputs": [],
      "source": [
        "total_average = []\n",
        "print(\"F-measures when K = 5\")\n",
        "print(\"-----------------------\")\n",
        "for i in range(50):\n",
        "  image_average = getFMeasure(segments_5[i], grounds[i],i)\n",
        "  total_average.append(image_average)\n",
        "\n",
        "average = sum(total_average)/len(total_average)\n",
        "\n",
        "print(\"================================================================================\")\n",
        "print(\"Average F-measure when k=5 is \"+ str(average))\n",
        "print(\"--------------------------------------------------\")"
      ]
    },
    {
      "cell_type": "markdown",
      "source": [
        "**Calculating F-measure for k = 7**"
      ],
      "metadata": {
        "id": "CHNhBVHE--IY"
      }
    },
    {
      "cell_type": "code",
      "execution_count": null,
      "metadata": {
        "id": "QDwRJRg2nlB6"
      },
      "outputs": [],
      "source": [
        "total_average = []\n",
        "print(\"F-measures when K = 7\")\n",
        "print(\"-----------------------\")\n",
        "for i in range(50):\n",
        "  image_average = getFMeasure(segments_7[i], grounds[i],i)\n",
        "  total_average.append(image_average)\n",
        "\n",
        "average = sum(total_average)/len(total_average)\n",
        "\n",
        "print(\"================================================================================\")\n",
        "print(\"Average F-measure when k=7 is \"+ str(average))\n",
        "print(\"--------------------------------------------------\")"
      ]
    },
    {
      "cell_type": "markdown",
      "source": [
        "**Calculating F-measure for k = 9**"
      ],
      "metadata": {
        "id": "bJo-AaNT_AlJ"
      }
    },
    {
      "cell_type": "code",
      "execution_count": null,
      "metadata": {
        "id": "pjHG1voCnl5X"
      },
      "outputs": [],
      "source": [
        "total_average = []\n",
        "print(\"F-measures when K = 9\")\n",
        "print(\"-----------------------\")\n",
        "for i in range(50):\n",
        "  image_average = getFMeasure(segments_9[i], grounds[i],i)\n",
        "  total_average.append(image_average)\n",
        "\n",
        "average = sum(total_average)/len(total_average)\n",
        "\n",
        "print(\"================================================================================\")\n",
        "print(\"Average F-measure when k=9 is \"+ str(average))\n",
        "print(\"--------------------------------------------------\")"
      ]
    },
    {
      "cell_type": "markdown",
      "source": [
        "**Calculating F-measure for k = 11**"
      ],
      "metadata": {
        "id": "2PLp4UJP_DIl"
      }
    },
    {
      "cell_type": "code",
      "execution_count": null,
      "metadata": {
        "id": "4BtEptImntRU"
      },
      "outputs": [],
      "source": [
        "total_average = []\n",
        "print(\"F-measures when K = 11\")\n",
        "print(\"-----------------------\")\n",
        "for i in range(50):\n",
        "  image_average = getFMeasure(segments_11[i], grounds[i],i)\n",
        "  total_average.append(image_average)\n",
        "\n",
        "average = sum(total_average)/len(total_average)\n",
        "\n",
        "print(\"================================================================================\")\n",
        "print(\"Average F-measure when k=11 is \"+ str(average))\n",
        "print(\"--------------------------------------------------\")"
      ]
    },
    {
      "cell_type": "markdown",
      "source": [
        "**Conditional Entropy Implementation**"
      ],
      "metadata": {
        "id": "TaNLbvBU_I6p"
      }
    },
    {
      "cell_type": "code",
      "execution_count": null,
      "metadata": {
        "id": "yoG7CD4-8OF1"
      },
      "outputs": [],
      "source": [
        "def getConditionalEntropy(segmented_results,mat):\n",
        "  cond_entropy_list = []\n",
        "  pred = segmented_results.flatten()\n",
        "  for n in range(mat['groundTruth'].shape[1]):\n",
        "    print(\"For ground truth image: \" + str(n+1))\n",
        "    print(\"-------------------------------------\")\n",
        "    truth = mat['groundTruth'][0, n][0, 0][0].flatten()\n",
        "    predicted_labels = np.unique(pred)\n",
        "    predicted_indicies = np.array([ np.where(pred == i) for i in predicted_labels if np.where(pred == i)[0].size > 0])\n",
        "    clusters = [0 for x in predicted_labels]\n",
        "    for i in range(len(predicted_labels)):\n",
        "      clusters[i] = np.array([truth[j] for j in predicted_indicies[i]])\n",
        "    cond_entropy_ = np.zeros(len(clusters))\n",
        "    for i,c in zip(clusters,range(len(clusters))):\n",
        "      print(c+1,\"'The cluster: \", np.array(i).flatten())\n",
        "      sum_ = np.array([(np.array(i) == j).sum() for j in np.unique(truth)])\n",
        "      entropy_ = np.array([j / (1.0 * len(i[0])) for j in sum_])\n",
        "      entropy_ = np.array([math.log(j) * (j) * -1.0 for j in entropy_ if j != 0])\n",
        "      cond_entropy_[c] = sum(entropy_) * len(i[0]) * 1.0 / len(pred)\n",
        "    cond_entropy_list.append(sum(cond_entropy_))\n",
        "    print(\"Conditional Entropy: \",sum(cond_entropy_))\n",
        "    print(\"==========================================\")\n",
        "  \n",
        "  average = sum(cond_entropy_list)/len(cond_entropy_list)\n",
        "  print(\"Average Conditional Entropy for this image is \"+ str(average))\n",
        "  print(\"===================================================================\")\n",
        "  return average"
      ]
    },
    {
      "cell_type": "markdown",
      "source": [
        "**Calculating Conditional entropy when k = 3**"
      ],
      "metadata": {
        "id": "OKJYQlr8_Nrj"
      }
    },
    {
      "cell_type": "code",
      "execution_count": null,
      "metadata": {
        "id": "M5cbOy7y8g4d"
      },
      "outputs": [],
      "source": [
        "total_average = []\n",
        "print(\"Conditional Entropy when K = 3\")\n",
        "print(\"-------------------------------\")\n",
        "for i in range(50):\n",
        "  print(\"********For image number: \"+ str(i+1) +\"********\")\n",
        "  print(\"========================\")\n",
        "  image_average = getConditionalEntropy(segments_3[i], grounds[i])\n",
        "  total_average.append(image_average)\n",
        "\n",
        "average = sum(total_average)/len(total_average)\n",
        "\n",
        "print(\"================================================================================\")\n",
        "print(\"Average Conditional Entropy when k=3 is \"+ str(average))\n",
        "print(\"--------------------------------------------------------------------------------------\")"
      ]
    },
    {
      "cell_type": "markdown",
      "source": [
        "**Calculating Conditional entropy when k = 5**"
      ],
      "metadata": {
        "id": "jmVxKI5n_TU5"
      }
    },
    {
      "cell_type": "code",
      "execution_count": null,
      "metadata": {
        "id": "kXZC4qmD8pc8"
      },
      "outputs": [],
      "source": [
        "total_average = []\n",
        "print(\"Conditional Entropy when K = 5\")\n",
        "print(\"-------------------------------\")\n",
        "for i in range(50):\n",
        "  print(\"********For image number: \"+ str(i+1) +\"********\")\n",
        "  print(\"========================\")\n",
        "  image_average = getConditionalEntropy(segments_5[i], grounds[i])\n",
        "  total_average.append(image_average)\n",
        "\n",
        "average = sum(total_average)/len(total_average)\n",
        "\n",
        "print(\"================================================================================\")\n",
        "print(\"Average Conditional Entropy when k=5 is \"+ str(average))\n",
        "print(\"--------------------------------------------------------------------------------------\")"
      ]
    },
    {
      "cell_type": "markdown",
      "source": [
        "**Calculating Conditional entropy when k = 7**"
      ],
      "metadata": {
        "id": "0w2Jk6_o_VmM"
      }
    },
    {
      "cell_type": "code",
      "execution_count": null,
      "metadata": {
        "id": "R4hsbrtS9sVy"
      },
      "outputs": [],
      "source": [
        "total_average = []\n",
        "print(\"Conditional Entropy when K = 7\")\n",
        "print(\"-------------------------------\")\n",
        "for i in range(50):\n",
        "  print(\"********For image number: \"+ str(i+1) +\"********\")\n",
        "  print(\"========================\")\n",
        "  image_average = getConditionalEntropy(segments_7[i], grounds[i])\n",
        "  total_average.append(image_average)\n",
        "\n",
        "average = sum(total_average)/len(total_average)\n",
        "\n",
        "print(\"================================================================================\")\n",
        "print(\"Average Conditional Entropy when k=7 is \"+ str(average))\n",
        "print(\"--------------------------------------------------------------------------------------\")"
      ]
    },
    {
      "cell_type": "markdown",
      "source": [
        "**Calculating Conditional entropy when k = 9**"
      ],
      "metadata": {
        "id": "ZPXTCVvz_X7M"
      }
    },
    {
      "cell_type": "code",
      "execution_count": null,
      "metadata": {
        "id": "ZfkYIbjY9ub6"
      },
      "outputs": [],
      "source": [
        "total_average = []\n",
        "print(\"Conditional Entropy when K = 9\")\n",
        "print(\"-------------------------------\")\n",
        "for i in range(50):\n",
        "  print(\"********For image number: \"+ str(i+1) +\"********\")\n",
        "  print(\"========================\")\n",
        "  image_average = getConditionalEntropy(segments_9[i], grounds[i])\n",
        "  total_average.append(image_average)\n",
        "\n",
        "average = sum(total_average)/len(total_average)\n",
        "\n",
        "print(\"================================================================================\")\n",
        "print(\"Average Conditional Entropy when k=9 is \"+ str(average))\n",
        "print(\"--------------------------------------------------------------------------------------\")"
      ]
    },
    {
      "cell_type": "markdown",
      "source": [
        "**Calculating Conditional entropy when k = 11**"
      ],
      "metadata": {
        "id": "NcvToP8I_Z_C"
      }
    },
    {
      "cell_type": "code",
      "execution_count": null,
      "metadata": {
        "id": "HN7RWD6W9vGY"
      },
      "outputs": [],
      "source": [
        "total_average = []\n",
        "print(\"Conditional Entropy when K = 11\")\n",
        "print(\"-------------------------------\")\n",
        "for i in range(50):\n",
        "  print(\"********For image number: \"+ str(i+1) +\"********\")\n",
        "  print(\"========================\")\n",
        "  image_average = getConditionalEntropy(segments_11[i], grounds[i])\n",
        "  total_average.append(image_average)\n",
        "\n",
        "average = sum(total_average)/len(total_average)\n",
        "\n",
        "print(\"================================================================================\")\n",
        "print(\"Average Conditional Entropy when k=11 is \"+ str(average))\n",
        "print(\"--------------------------------------------------------------------------------------\")"
      ]
    },
    {
      "cell_type": "markdown",
      "source": [
        "# **c. Display good results and bad results for every configuration in a, b.**\n",
        "# **Discuss them.**"
      ],
      "metadata": {
        "id": "9UBPzEOO_d3s"
      }
    },
    {
      "cell_type": "code",
      "source": [
        "def goodVSbad(image, index):\n",
        "  plt.imshow(image)\n",
        "  plt.title(\"Clustered image by kmeans\")\n",
        "  plt.show()\n",
        "  j=0\n",
        "  while np.all(ground_images[index][j]) != 0:\n",
        "    plt.imshow(Image.fromarray(ground_images[index][j]))\n",
        "    plt.title(\"Ground truth image (\"+str(j+1)+\")\")\n",
        "    plt.show()\n",
        "    j+=1"
      ],
      "metadata": {
        "id": "BtmngHZ-ayxS"
      },
      "execution_count": null,
      "outputs": []
    },
    {
      "cell_type": "markdown",
      "source": [
        "**Good and bad F-measures for each k**"
      ],
      "metadata": {
        "id": "LjO42li3_xUs"
      }
    },
    {
      "cell_type": "code",
      "source": [
        "print(\"When k = 3:\")\n",
        "print(\"=============\")\n",
        "print(\"Good F-meausure (image #3) (high)\")\n",
        "print(\"------------------------------------\")\n",
        "goodVSbad(segments_3[2],2)\n",
        "print(\"===========================================\")\n",
        "print(\"Bad F-measure (image #43) (low)\")\n",
        "print(\"------------------------------------\")\n",
        "goodVSbad(segments_3[42],42)\n",
        "print(\"*******************************************\")\n",
        "\n",
        "print(\"When k = 5:\")\n",
        "print(\"=============\")\n",
        "print(\"Good F-meausure (image #25) (high)\")\n",
        "print(\"------------------------------------\")\n",
        "goodVSbad(segments_3[24],24)\n",
        "print(\"===========================================\")\n",
        "print(\"Bad F-measure (image #28) (low)\")\n",
        "print(\"------------------------------------\")\n",
        "goodVSbad(segments_5[27],27)\n",
        "print(\"*******************************************\")\n",
        "\n",
        "print(\"When k = 7:\")\n",
        "print(\"=============\")\n",
        "print(\"Good F-meausure (image #48) (high)\")\n",
        "print(\"------------------------------------\")\n",
        "goodVSbad(segments_3[47],47)\n",
        "print(\"===========================================\")\n",
        "print(\"Bad F-measure (image #21) (low)\")\n",
        "print(\"------------------------------------\")\n",
        "goodVSbad(segments_7[20],20)\n",
        "print(\"*******************************************\")\n",
        "\n",
        "print(\"When k = 9:\")\n",
        "print(\"=============\")\n",
        "print(\"Good F-meausure (image #14) (high)\")\n",
        "print(\"------------------------------------\")\n",
        "goodVSbad(segments_3[13],13)\n",
        "print(\"===========================================\")\n",
        "print(\"Bad F-measure (image #22) (low)\")\n",
        "print(\"------------------------------------\")\n",
        "goodVSbad(segments_9[21],21)\n",
        "print(\"*******************************************\")\n",
        "\n",
        "print(\"When k = 11:\")\n",
        "print(\"=============\")\n",
        "print(\"Good F-meausure (image #23) (high)\")\n",
        "print(\"------------------------------------\")\n",
        "goodVSbad(segments_3[22],22)\n",
        "print(\"===========================================\")\n",
        "print(\"Bad F-measure (image #22) (low)\")\n",
        "print(\"------------------------------------\")\n",
        "goodVSbad(segments_11[21],21)\n",
        "print(\"*******************************************\")"
      ],
      "metadata": {
        "id": "KKFDUWh2TGES"
      },
      "execution_count": null,
      "outputs": []
    },
    {
      "cell_type": "markdown",
      "source": [
        "**Good and bad Conditional Entropy for each k**"
      ],
      "metadata": {
        "id": "ttDhYOAJ_1rD"
      }
    },
    {
      "cell_type": "code",
      "source": [
        "print(\"When k = 3:\")\n",
        "print(\"=============\")\n",
        "print(\"Good Conditional Entropy (image #19) (low)\")\n",
        "print(\"--------------------------------------------\")\n",
        "goodVSbad(segments_3[18],18)\n",
        "print(\"===========================================\")\n",
        "print(\"Bad Conditional Entropy (image #42) (high)\")\n",
        "print(\"---------------------------------------------\")\n",
        "goodVSbad(segments_3[41],41)\n",
        "print(\"************************************************\")\n",
        "\n",
        "print(\"When k = 5:\")\n",
        "print(\"=============\")\n",
        "print(\"Good Conditional Entropy (image #19) (low)\")\n",
        "print(\"--------------------------------------------\")\n",
        "goodVSbad(segments_5[18],18)\n",
        "print(\"===========================================\")\n",
        "print(\"Bad Conditional Entropy (image #46) (high)\")\n",
        "print(\"---------------------------------------------\")\n",
        "goodVSbad(segments_5[45],45)\n",
        "print(\"************************************************\")\n",
        "\n",
        "print(\"When k = 7:\")\n",
        "print(\"=============\")\n",
        "print(\"Good Conditional Entropy (image #19) (low)\")\n",
        "print(\"--------------------------------------------\")\n",
        "goodVSbad(segments_7[18],18)\n",
        "print(\"===========================================\")\n",
        "print(\"Bad Conditional Entropy (image #45) (high)\")\n",
        "print(\"---------------------------------------------\")\n",
        "goodVSbad(segments_7[44],44)\n",
        "print(\"************************************************\")\n",
        "\n",
        "print(\"When k = 9:\")\n",
        "print(\"=============\")\n",
        "print(\"Good Conditional Entropy (image #19) (low)\")\n",
        "print(\"--------------------------------------------\")\n",
        "goodVSbad(segments_9[18],18)\n",
        "print(\"===========================================\")\n",
        "print(\"Bad Conditional Entropy (image #45) (high)\")\n",
        "print(\"---------------------------------------------\")\n",
        "goodVSbad(segments_9[44],44)\n",
        "print(\"************************************************\")\n",
        "\n",
        "print(\"When k = 11:\")\n",
        "print(\"=============\")\n",
        "print(\"Good Conditional Entropy (image #19) (low)\")\n",
        "print(\"--------------------------------------------\")\n",
        "goodVSbad(segments_11[18],18)\n",
        "print(\"===========================================\")\n",
        "print(\"Bad Conditional Entropy (image #44) (high)\")\n",
        "print(\"---------------------------------------------\")\n",
        "goodVSbad(segments_11[43],43)\n",
        "print(\"************************************************\")"
      ],
      "metadata": {
        "id": "j8sRVbhwjOO4"
      },
      "execution_count": null,
      "outputs": []
    },
    {
      "cell_type": "markdown",
      "source": [
        "# **4. Big Picture**"
      ],
      "metadata": {
        "id": "QvDhwwLm_7N-"
      }
    },
    {
      "cell_type": "markdown",
      "source": [
        "**Normalized cut for k = 5 and 5-nn**"
      ],
      "metadata": {
        "id": "q3_eVJh__-7g"
      }
    },
    {
      "cell_type": "code",
      "source": [
        "def spectral_segment(img):\n",
        "    width = int(img.shape[1] * 0.7)\n",
        "    height = int(img.shape[0] * 0.7)\n",
        "    dsize = (width, height)\n",
        "    im_array = cv2.resize(np.copy(img), dsize)\n",
        "    pixel_map = im_array\n",
        "    cluster_idx =  SpectralClustering(n_clusters=5, affinity='nearest_neighbors',\n",
        "                                      n_neighbors=5,\n",
        "                                      n_jobs=-1, eigen_solver='arpack').fit_predict(pixel_map.reshape(width*height,3))\n",
        "    return cluster_idx.reshape(im_array.shape[0],im_array.shape[1])\n"
      ],
      "metadata": {
        "id": "jP4qq80QMwV_"
      },
      "execution_count": null,
      "outputs": []
    },
    {
      "cell_type": "markdown",
      "source": [
        "**Segmenting the first 5 test images using normalized cut**"
      ],
      "metadata": {
        "id": "HlJ4wy-1AGS6"
      }
    },
    {
      "cell_type": "code",
      "execution_count": null,
      "metadata": {
        "id": "h87e0od3pEQ4"
      },
      "outputs": [],
      "source": [
        "normalized_cut_segments = []\n",
        "for i in range(5):\n",
        "  seg = spectral_segment(images[i])\n",
        "  normalized_cut_segments.append(seg)"
      ]
    },
    {
      "cell_type": "markdown",
      "source": [
        "**a. Select a set of five images and display their corresponding ground**\n",
        "**truth against your segmentation results using K-means at K=5.**"
      ],
      "metadata": {
        "id": "-SQltR0aAQJp"
      }
    },
    {
      "cell_type": "code",
      "source": [
        "def kmeansVSground(clustered, gt):\n",
        "  for i in range(5):\n",
        "    plt.imshow(clustered[i])\n",
        "    plt.title(\"Kmeans for k = 5\")\n",
        "    plt.show()\n",
        "    j=0\n",
        "    while np.all(gt[i][j]) != 0:\n",
        "      plt.imshow(Image.fromarray(gt[i][j]))\n",
        "      plt.title(\"Ground truth image (\"+str(j+1)+\")\")\n",
        "      plt.show()\n",
        "      j+=1\n",
        "kmeansVSground(segments_5,ground_images)"
      ],
      "metadata": {
        "id": "7R5qhgJNETk_"
      },
      "execution_count": null,
      "outputs": []
    },
    {
      "cell_type": "markdown",
      "source": [
        "**b. Select the same five images and display their corresponding ground** \n",
        "**truth against your segmentation results using Normalized-cut for the** \n",
        "**5-NN graph, at K=5.** "
      ],
      "metadata": {
        "id": "pTJsY9_rAWW4"
      }
    },
    {
      "cell_type": "code",
      "source": [
        "def normalized_cutVSground(normalized, gt):\n",
        "  for i in range(5):\n",
        "    plt.imshow(normalized[i])\n",
        "    plt.title(\"Normalized cut for k = 5 and 5-nn\")\n",
        "    plt.show()\n",
        "    j=0\n",
        "    while np.all(gt[i][j]) != 0:\n",
        "      plt.imshow(Image.fromarray(gt[i][j]))\n",
        "      plt.title(\"Ground truth image (\"+str(j+1)+\")\")\n",
        "      plt.show()\n",
        "      j+=1\n",
        "\n",
        "normalized_cutVSground(normalized_cut_segments,ground_images)"
      ],
      "metadata": {
        "id": "wURIXiGJeCG2"
      },
      "execution_count": null,
      "outputs": []
    },
    {
      "cell_type": "markdown",
      "source": [
        "**c.Select the same five images and contrast your segmentation results** \n",
        "**using Normalized-cut for the 5-NN graph, at K=5 versus using K-means at K=5.**"
      ],
      "metadata": {
        "id": "EkuepvirAfKl"
      }
    },
    {
      "cell_type": "code",
      "source": [
        "def kmeansVSnormalized_cut(clustered, normalized):\n",
        "  for i in range(5):\n",
        "     plt.imshow(clustered[i])\n",
        "     plt.title(\"Kmeans for k = 5\")\n",
        "     plt.show()\n",
        "     plt.imshow(normalized[i])\n",
        "     plt.title(\"Normalized cut for k = 5 and 5-nn\")\n",
        "     plt.show()\n",
        "\n",
        "kmeansVSnormalized_cut(segments_5,normalized_cut_segments)"
      ],
      "metadata": {
        "id": "lsnvulugeYHG"
      },
      "execution_count": null,
      "outputs": []
    },
    {
      "cell_type": "code",
      "source": [
        ""
      ],
      "metadata": {
        "id": "BI1Mq0hCQxNI"
      },
      "execution_count": null,
      "outputs": []
    }
  ],
  "metadata": {
    "colab": {
      "collapsed_sections": [],
      "name": "image_segmentation(2)_(5)_(7)_(3)_(8) (3).ipynb",
      "provenance": [],
      "private_outputs": true
    },
    "kernelspec": {
      "display_name": "Python 3",
      "name": "python3"
    },
    "language_info": {
      "name": "python"
    }
  },
  "nbformat": 4,
  "nbformat_minor": 0
}